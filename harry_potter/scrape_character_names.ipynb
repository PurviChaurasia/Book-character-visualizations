{
 "cells": [
  {
   "cell_type": "code",
   "execution_count": 154,
   "id": "2128c081-b24a-408b-b878-1fbc3dbe1431",
   "metadata": {
    "tags": []
   },
   "outputs": [],
   "source": [
    "# Import libraries\n",
    "import pandas as pd\n",
    "import numpy as np\n",
    "import re\n",
    "import time\n",
    "import json\n",
    "from selenium import webdriver\n",
    "from selenium.webdriver.common.by import By\n",
    "from webdriver_manager.chrome import ChromeDriverManager"
   ]
  },
  {
   "cell_type": "markdown",
   "id": "a23fbe31-e5ec-46ed-8e01-33bbc24bcb0c",
   "metadata": {
    "tags": []
   },
   "source": [
    "#### Scraping Top 100 Character of the Harry Potter"
   ]
  },
  {
   "cell_type": "code",
   "execution_count": 198,
   "id": "de81f7ec-7ac9-483d-93a4-dc2271b9eac8",
   "metadata": {
    "tags": []
   },
   "outputs": [
    {
     "name": "stderr",
     "output_type": "stream",
     "text": [
      "/var/folders/mx/zffbks614vjg46_y83gtq58w0000gn/T/ipykernel_687/2932874972.py:2: DeprecationWarning: executable_path has been deprecated, please pass in a Service object\n",
      "  driver = webdriver.Chrome(ChromeDriverManager().install())\n"
     ]
    }
   ],
   "source": [
    "# Create driver\n",
    "driver = webdriver.Chrome(ChromeDriverManager().install())\n",
    "\n",
    "# Go to the character page\n",
    "url = 'https://www.listchallenges.com/all-harry-potter-characters'\n",
    "driver.get(url)\n",
    "\n",
    "# Get buttons of pages\n",
    "page_num_buttons = driver.find_elements(By.XPATH, '//*[@id=\"MainContent_MainContent_pager\"]/a')\n",
    "\n",
    "pages = []\n",
    "for page in page_num_buttons:\n",
    "    page_url = page.get_attribute('href')\n",
    "    pages.append(page_url)"
   ]
  },
  {
   "cell_type": "code",
   "execution_count": 209,
   "id": "d8502bcd-e35b-4e0a-8658-bdfdb7ba8462",
   "metadata": {
    "tags": []
   },
   "outputs": [],
   "source": [
    "# Extracte character pages and saving\n",
    "characters = []\n",
    "for page_url in pages:\n",
    "    \n",
    "    driver.get(page_url)\n",
    "    \n",
    "    cha_elem = driver.find_elements(By.CLASS_NAME, 'item-name')\n",
    "    \n",
    "    for cha in cha_elem:\n",
    "        character_name = cha.text\n",
    "        characters.append(character_name)"
   ]
  },
  {
   "cell_type": "code",
   "execution_count": 430,
   "id": "3f038158-d13c-48de-add9-13ee7122118f",
   "metadata": {
    "tags": []
   },
   "outputs": [],
   "source": [
    "#Create DataFrame for names\n",
    "characters_df = pd.DataFrame(characters, columns=['names'])"
   ]
  },
  {
   "cell_type": "code",
   "execution_count": 433,
   "id": "ff251cd4-b600-4e13-9917-b3ba16b5082d",
   "metadata": {
    "tags": []
   },
   "outputs": [],
   "source": [
    "# Eleminate extra information that some columns had\n",
    "characters_df.names = characters_df.names.apply(lambda x: x.split('-')[0])\n",
    "\n",
    "# Extracte first names\n",
    "characters_df['first_name'] = characters_df.names.apply(lambda x: x.split(' ')[0])"
   ]
  },
  {
   "cell_type": "code",
   "execution_count": 434,
   "id": "309291c5-ae56-4979-b9b4-37b769da44fd",
   "metadata": {
    "tags": []
   },
   "outputs": [],
   "source": [
    "# Extracte last names\n",
    "last_names = []\n",
    "for name in characters_df.names:\n",
    "    try:\n",
    "        last_names.append(name.split(' ')[1])\n",
    "    except:\n",
    "        last_names.append('')\n",
    "\n",
    "# Create new column for last names\n",
    "characters_df['last_name'] = last_names"
   ]
  },
  {
   "cell_type": "code",
   "execution_count": 435,
   "id": "f117aa21-20a0-475a-b031-c56359e0ec07",
   "metadata": {
    "tags": []
   },
   "outputs": [
    {
     "data": {
      "text/html": [
       "<div>\n",
       "<style scoped>\n",
       "    .dataframe tbody tr th:only-of-type {\n",
       "        vertical-align: middle;\n",
       "    }\n",
       "\n",
       "    .dataframe tbody tr th {\n",
       "        vertical-align: top;\n",
       "    }\n",
       "\n",
       "    .dataframe thead th {\n",
       "        text-align: right;\n",
       "    }\n",
       "</style>\n",
       "<table border=\"1\" class=\"dataframe\">\n",
       "  <thead>\n",
       "    <tr style=\"text-align: right;\">\n",
       "      <th></th>\n",
       "      <th>names</th>\n",
       "      <th>first_name</th>\n",
       "      <th>last_name</th>\n",
       "    </tr>\n",
       "  </thead>\n",
       "  <tbody>\n",
       "    <tr>\n",
       "      <th>0</th>\n",
       "      <td>Harry Potter</td>\n",
       "      <td>Harry</td>\n",
       "      <td>Potter</td>\n",
       "    </tr>\n",
       "    <tr>\n",
       "      <th>1</th>\n",
       "      <td>Ron Weasley</td>\n",
       "      <td>Ron</td>\n",
       "      <td>Weasley</td>\n",
       "    </tr>\n",
       "    <tr>\n",
       "      <th>2</th>\n",
       "      <td>Hermione Granger</td>\n",
       "      <td>Hermione</td>\n",
       "      <td>Granger</td>\n",
       "    </tr>\n",
       "    <tr>\n",
       "      <th>3</th>\n",
       "      <td>Rubeus Hagrid</td>\n",
       "      <td>Rubeus</td>\n",
       "      <td>Hagrid</td>\n",
       "    </tr>\n",
       "    <tr>\n",
       "      <th>4</th>\n",
       "      <td>Albus Dumbledore</td>\n",
       "      <td>Albus</td>\n",
       "      <td>Dumbledore</td>\n",
       "    </tr>\n",
       "  </tbody>\n",
       "</table>\n",
       "</div>"
      ],
      "text/plain": [
       "              names first_name   last_name\n",
       "0      Harry Potter      Harry      Potter\n",
       "1       Ron Weasley        Ron     Weasley\n",
       "2  Hermione Granger   Hermione     Granger\n",
       "3     Rubeus Hagrid     Rubeus      Hagrid\n",
       "4  Albus Dumbledore      Albus  Dumbledore"
      ]
     },
     "execution_count": 435,
     "metadata": {},
     "output_type": "execute_result"
    }
   ],
   "source": [
    "characters_df.head()"
   ]
  },
  {
   "cell_type": "markdown",
   "id": "6f119f8d-7bda-4966-87f7-078fb48efc3c",
   "metadata": {},
   "source": [
    "### Scraping from another site which has richer content"
   ]
  },
  {
   "cell_type": "code",
   "execution_count": 34,
   "id": "62b3b076-d9c1-4c88-9e65-c88e2978a62f",
   "metadata": {
    "tags": []
   },
   "outputs": [
    {
     "name": "stderr",
     "output_type": "stream",
     "text": [
      "/var/folders/mx/zffbks614vjg46_y83gtq58w0000gn/T/ipykernel_687/1475611771.py:1: DeprecationWarning: executable_path has been deprecated, please pass in a Service object\n",
      "  driver = webdriver.Chrome(ChromeDriverManager().install())\n"
     ]
    }
   ],
   "source": [
    "# Create driver\n",
    "driver = webdriver.Chrome(ChromeDriverManager().install())\n",
    "\n",
    "# Go to the character page\n",
    "url = 'http://magical-menagerie.com/wizardry/full-character-listing/'\n",
    "driver.get(url)\n",
    "\n",
    "# Get elements\n",
    "elements = driver.find_element(By.CLASS_NAME, 'postcontent')\n",
    "sub_elem = elements.find_elements(By.TAG_NAME, 'p')"
   ]
  },
  {
   "cell_type": "code",
   "execution_count": 52,
   "id": "403de314-40da-4977-9a64-110a7e92e187",
   "metadata": {},
   "outputs": [],
   "source": [
    "# Extractetags which holds names\n",
    "tags = [element.find_elements(By.TAG_NAME, 'strong') for element in sub_elem]\n",
    "\n",
    "# Eleminate empty results\n",
    "tags_upd = [elem for elem in tags if elem != []]\n",
    "\n",
    "# Extracte names\n",
    "names = [{'names':t.text} for tag in tags_upd[1:-1] for t in tag if t.text != '']"
   ]
  },
  {
   "cell_type": "code",
   "execution_count": 390,
   "id": "3ce4a4b0-256e-4e89-8a70-7006fe7954ec",
   "metadata": {},
   "outputs": [],
   "source": [
    "# DataFrame for names\n",
    "character_names = pd.DataFrame(names)"
   ]
  },
  {
   "cell_type": "code",
   "execution_count": 391,
   "id": "d63e72db-8543-4d47-b1a6-fe3010b6c13b",
   "metadata": {
    "tags": []
   },
   "outputs": [],
   "source": [
    "# Delete paranthesis and what is inside them\n",
    "character_names['names'] = character_names['names'].apply(lambda x: re.sub('[\\(].*?[\\)]','', x))\n",
    "\n",
    "# Make new column for last names\n",
    "character_names['last_name'] = character_names['names'].apply(lambda x: x.split(', ', 1)[0])"
   ]
  },
  {
   "cell_type": "code",
   "execution_count": 393,
   "id": "07323d66-aa9a-4ba2-b6a6-b506ea109c6e",
   "metadata": {
    "tags": []
   },
   "outputs": [],
   "source": [
    "# Extracte first names\n",
    "first_names= []\n",
    "for name in character_names['names']:\n",
    "    try:\n",
    "        first_names.append(name.split(', ',1)[1])\n",
    "    except:\n",
    "        first_names.append('')\n",
    "        \n",
    "# Create new column for first names       \n",
    "character_names['first_name'] = first_names"
   ]
  },
  {
   "cell_type": "code",
   "execution_count": 422,
   "id": "052c5c91-d6b7-4cd5-97e4-f5011d303025",
   "metadata": {
    "tags": []
   },
   "outputs": [],
   "source": [
    "# Cleane first_name column\n",
    "character_names.first_name = character_names.first_name.str.replace('-','')\n",
    "character_names.first_name = character_names.first_name.str.replace('–','')\n",
    "character_names.first_name = character_names.first_name.str.replace('?','', regex=True)\n",
    "character_names.first_name = character_names.first_name.str.strip(' ')\n",
    "\n",
    "# Cleane last_name column\n",
    "character_names.last_name = character_names.last_name.str.replace('-','')\n",
    "character_names.last_name = character_names.last_name.str.replace('–','')\n",
    "character_names.last_name = character_names.last_name.str.replace('?','', regex=True)\n",
    "character_names.last_name = character_names.last_name.str.strip(' ')"
   ]
  },
  {
   "cell_type": "code",
   "execution_count": 423,
   "id": "14099cbd-e9ed-473d-8885-f0469bb96549",
   "metadata": {
    "tags": []
   },
   "outputs": [],
   "source": [
    "# Update names column\n",
    "character_names['names'] = character_names.first_name + ' ' + character_names.last_name"
   ]
  },
  {
   "cell_type": "code",
   "execution_count": 436,
   "id": "ce5e9103-8ccc-4900-a946-d6af1d793796",
   "metadata": {
    "tags": []
   },
   "outputs": [
    {
     "data": {
      "text/html": [
       "<div>\n",
       "<style scoped>\n",
       "    .dataframe tbody tr th:only-of-type {\n",
       "        vertical-align: middle;\n",
       "    }\n",
       "\n",
       "    .dataframe tbody tr th {\n",
       "        vertical-align: top;\n",
       "    }\n",
       "\n",
       "    .dataframe thead th {\n",
       "        text-align: right;\n",
       "    }\n",
       "</style>\n",
       "<table border=\"1\" class=\"dataframe\">\n",
       "  <thead>\n",
       "    <tr style=\"text-align: right;\">\n",
       "      <th></th>\n",
       "      <th>names</th>\n",
       "      <th>last_name</th>\n",
       "      <th>first_name</th>\n",
       "    </tr>\n",
       "  </thead>\n",
       "  <tbody>\n",
       "    <tr>\n",
       "      <th>0</th>\n",
       "      <td>Euan Abercrombie</td>\n",
       "      <td>Abercrombie</td>\n",
       "      <td>Euan</td>\n",
       "    </tr>\n",
       "    <tr>\n",
       "      <th>1</th>\n",
       "      <td>Steward Ackerley</td>\n",
       "      <td>Ackerley</td>\n",
       "      <td>Steward</td>\n",
       "    </tr>\n",
       "    <tr>\n",
       "      <th>2</th>\n",
       "      <td>Falcon Aesalon</td>\n",
       "      <td>Aesalon</td>\n",
       "      <td>Falcon</td>\n",
       "    </tr>\n",
       "    <tr>\n",
       "      <th>3</th>\n",
       "      <td>Agnes</td>\n",
       "      <td>Agnes</td>\n",
       "      <td></td>\n",
       "    </tr>\n",
       "    <tr>\n",
       "      <th>4</th>\n",
       "      <td>Cornelius Agrippa</td>\n",
       "      <td>Agrippa</td>\n",
       "      <td>Cornelius</td>\n",
       "    </tr>\n",
       "  </tbody>\n",
       "</table>\n",
       "</div>"
      ],
      "text/plain": [
       "               names    last_name first_name\n",
       "0   Euan Abercrombie  Abercrombie       Euan\n",
       "1   Steward Ackerley     Ackerley    Steward\n",
       "2     Falcon Aesalon      Aesalon     Falcon\n",
       "3              Agnes        Agnes           \n",
       "4  Cornelius Agrippa      Agrippa  Cornelius"
      ]
     },
     "execution_count": 436,
     "metadata": {},
     "output_type": "execute_result"
    }
   ],
   "source": [
    "character_names.head()"
   ]
  },
  {
   "cell_type": "code",
   "execution_count": 426,
   "id": "2b734fa8-42fb-4a6e-9565-b9f4a9094457",
   "metadata": {
    "tags": []
   },
   "outputs": [],
   "source": [
    "# Concatenate two DataFrame to one\n",
    "all_df = pd.concat([character_names,characters_df], axis=0, ignore_index=True)"
   ]
  },
  {
   "cell_type": "code",
   "execution_count": 428,
   "id": "0d030c1b-4ea0-48f2-aca3-3dd902ccf178",
   "metadata": {
    "tags": []
   },
   "outputs": [],
   "source": [
    "# Export data frame\n",
    "all_df.to_csv('character_names.csv')"
   ]
  }
 ],
 "metadata": {
  "kernelspec": {
   "display_name": "Python 3 (ipykernel)",
   "language": "python",
   "name": "python3"
  },
  "language_info": {
   "codemirror_mode": {
    "name": "ipython",
    "version": 3
   },
   "file_extension": ".py",
   "mimetype": "text/x-python",
   "name": "python",
   "nbconvert_exporter": "python",
   "pygments_lexer": "ipython3",
   "version": "3.11.0"
  }
 },
 "nbformat": 4,
 "nbformat_minor": 5
}
